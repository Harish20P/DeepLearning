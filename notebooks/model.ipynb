{
 "cells": [
  {
   "cell_type": "code",
   "execution_count": 1,
   "id": "f6e59113-1782-49f7-8440-4fd655bba434",
   "metadata": {},
   "outputs": [
    {
     "name": "stdout",
     "output_type": "stream",
     "text": [
      "Requirement already satisfied: ucimlrepo in c:\\users\\harish\\onedrive\\desktop\\python\\venv\\lib\\site-packages (0.0.7)Note: you may need to restart the kernel to use updated packages.\n",
      "\n",
      "Requirement already satisfied: pandas>=1.0.0 in c:\\users\\harish\\onedrive\\desktop\\python\\venv\\lib\\site-packages (from ucimlrepo) (2.2.2)\n",
      "Requirement already satisfied: certifi>=2020.12.5 in c:\\users\\harish\\onedrive\\desktop\\python\\venv\\lib\\site-packages (from ucimlrepo) (2024.7.4)\n",
      "Requirement already satisfied: numpy>=1.26.0 in c:\\users\\harish\\onedrive\\desktop\\python\\venv\\lib\\site-packages (from pandas>=1.0.0->ucimlrepo) (1.26.4)\n",
      "Requirement already satisfied: python-dateutil>=2.8.2 in c:\\users\\harish\\onedrive\\desktop\\python\\venv\\lib\\site-packages (from pandas>=1.0.0->ucimlrepo) (2.9.0.post0)\n",
      "Requirement already satisfied: pytz>=2020.1 in c:\\users\\harish\\onedrive\\desktop\\python\\venv\\lib\\site-packages (from pandas>=1.0.0->ucimlrepo) (2024.1)\n",
      "Requirement already satisfied: tzdata>=2022.7 in c:\\users\\harish\\onedrive\\desktop\\python\\venv\\lib\\site-packages (from pandas>=1.0.0->ucimlrepo) (2024.1)\n",
      "Requirement already satisfied: six>=1.5 in c:\\users\\harish\\onedrive\\desktop\\python\\venv\\lib\\site-packages (from python-dateutil>=2.8.2->pandas>=1.0.0->ucimlrepo) (1.16.0)\n"
     ]
    }
   ],
   "source": [
    "!pip install ucimlrepo"
   ]
  },
  {
   "cell_type": "code",
   "execution_count": 2,
   "id": "c7be8012-e408-4644-9bec-89c855f1de22",
   "metadata": {},
   "outputs": [
    {
     "name": "stdout",
     "output_type": "stream",
     "text": [
      "Epoch 1/50\n"
     ]
    },
    {
     "name": "stderr",
     "output_type": "stream",
     "text": [
      "c:\\Users\\Harish\\OneDrive\\Desktop\\Python\\venv\\Lib\\site-packages\\sklearn\\preprocessing\\_label.py:114: DataConversionWarning: A column-vector y was passed when a 1d array was expected. Please change the shape of y to (n_samples, ), for example using ravel().\n",
      "  y = column_or_1d(y, warn=True)\n"
     ]
    },
    {
     "name": "stdout",
     "output_type": "stream",
     "text": [
      "\u001b[1m273/273\u001b[0m \u001b[32m━━━━━━━━━━━━━━━━━━━━\u001b[0m\u001b[37m\u001b[0m \u001b[1m1s\u001b[0m 1ms/step - accuracy: 0.4590 - loss: 1.4204 - val_accuracy: 0.8792 - val_loss: 0.3582\n",
      "Epoch 2/50\n",
      "\u001b[1m273/273\u001b[0m \u001b[32m━━━━━━━━━━━━━━━━━━━━\u001b[0m\u001b[37m\u001b[0m \u001b[1m0s\u001b[0m 960us/step - accuracy: 0.8335 - loss: 0.4959 - val_accuracy: 0.9118 - val_loss: 0.2624\n",
      "Epoch 3/50\n",
      "\u001b[1m273/273\u001b[0m \u001b[32m━━━━━━━━━━━━━━━━━━━━\u001b[0m\u001b[37m\u001b[0m \u001b[1m0s\u001b[0m 912us/step - accuracy: 0.8844 - loss: 0.3560 - val_accuracy: 0.9187 - val_loss: 0.2357\n",
      "Epoch 4/50\n",
      "\u001b[1m273/273\u001b[0m \u001b[32m━━━━━━━━━━━━━━━━━━━━\u001b[0m\u001b[37m\u001b[0m \u001b[1m0s\u001b[0m 978us/step - accuracy: 0.8965 - loss: 0.3250 - val_accuracy: 0.9197 - val_loss: 0.2316\n",
      "Epoch 5/50\n",
      "\u001b[1m273/273\u001b[0m \u001b[32m━━━━━━━━━━━━━━━━━━━━\u001b[0m\u001b[37m\u001b[0m \u001b[1m0s\u001b[0m 907us/step - accuracy: 0.8982 - loss: 0.3007 - val_accuracy: 0.9247 - val_loss: 0.2219\n",
      "Epoch 6/50\n",
      "\u001b[1m273/273\u001b[0m \u001b[32m━━━━━━━━━━━━━━━━━━━━\u001b[0m\u001b[37m\u001b[0m \u001b[1m0s\u001b[0m 926us/step - accuracy: 0.9074 - loss: 0.2831 - val_accuracy: 0.9265 - val_loss: 0.2217\n",
      "Epoch 7/50\n",
      "\u001b[1m273/273\u001b[0m \u001b[32m━━━━━━━━━━━━━━━━━━━━\u001b[0m\u001b[37m\u001b[0m \u001b[1m0s\u001b[0m 1ms/step - accuracy: 0.9041 - loss: 0.2718 - val_accuracy: 0.9229 - val_loss: 0.2202\n",
      "Epoch 8/50\n",
      "\u001b[1m273/273\u001b[0m \u001b[32m━━━━━━━━━━━━━━━━━━━━\u001b[0m\u001b[37m\u001b[0m \u001b[1m0s\u001b[0m 973us/step - accuracy: 0.9054 - loss: 0.2803 - val_accuracy: 0.9256 - val_loss: 0.2127\n",
      "Epoch 9/50\n",
      "\u001b[1m273/273\u001b[0m \u001b[32m━━━━━━━━━━━━━━━━━━━━\u001b[0m\u001b[37m\u001b[0m \u001b[1m0s\u001b[0m 1ms/step - accuracy: 0.9064 - loss: 0.2810 - val_accuracy: 0.9256 - val_loss: 0.2145\n",
      "Epoch 10/50\n",
      "\u001b[1m273/273\u001b[0m \u001b[32m━━━━━━━━━━━━━━━━━━━━\u001b[0m\u001b[37m\u001b[0m \u001b[1m0s\u001b[0m 988us/step - accuracy: 0.9063 - loss: 0.2753 - val_accuracy: 0.9252 - val_loss: 0.2179\n",
      "Epoch 11/50\n",
      "\u001b[1m273/273\u001b[0m \u001b[32m━━━━━━━━━━━━━━━━━━━━\u001b[0m\u001b[37m\u001b[0m \u001b[1m0s\u001b[0m 981us/step - accuracy: 0.9131 - loss: 0.2693 - val_accuracy: 0.9229 - val_loss: 0.2175\n",
      "Epoch 12/50\n",
      "\u001b[1m273/273\u001b[0m \u001b[32m━━━━━━━━━━━━━━━━━━━━\u001b[0m\u001b[37m\u001b[0m \u001b[1m0s\u001b[0m 910us/step - accuracy: 0.9149 - loss: 0.2471 - val_accuracy: 0.9256 - val_loss: 0.2125\n",
      "Epoch 13/50\n",
      "\u001b[1m273/273\u001b[0m \u001b[32m━━━━━━━━━━━━━━━━━━━━\u001b[0m\u001b[37m\u001b[0m \u001b[1m0s\u001b[0m 915us/step - accuracy: 0.9143 - loss: 0.2506 - val_accuracy: 0.9238 - val_loss: 0.2087\n",
      "Epoch 14/50\n",
      "\u001b[1m273/273\u001b[0m \u001b[32m━━━━━━━━━━━━━━━━━━━━\u001b[0m\u001b[37m\u001b[0m \u001b[1m0s\u001b[0m 932us/step - accuracy: 0.9042 - loss: 0.2641 - val_accuracy: 0.9265 - val_loss: 0.2136\n",
      "Epoch 15/50\n",
      "\u001b[1m273/273\u001b[0m \u001b[32m━━━━━━━━━━━━━━━━━━━━\u001b[0m\u001b[37m\u001b[0m \u001b[1m0s\u001b[0m 986us/step - accuracy: 0.9168 - loss: 0.2391 - val_accuracy: 0.9293 - val_loss: 0.2062\n",
      "Epoch 16/50\n",
      "\u001b[1m273/273\u001b[0m \u001b[32m━━━━━━━━━━━━━━━━━━━━\u001b[0m\u001b[37m\u001b[0m \u001b[1m0s\u001b[0m 960us/step - accuracy: 0.9150 - loss: 0.2458 - val_accuracy: 0.9238 - val_loss: 0.2154\n",
      "Epoch 17/50\n",
      "\u001b[1m273/273\u001b[0m \u001b[32m━━━━━━━━━━━━━━━━━━━━\u001b[0m\u001b[37m\u001b[0m \u001b[1m0s\u001b[0m 930us/step - accuracy: 0.9122 - loss: 0.2594 - val_accuracy: 0.9270 - val_loss: 0.2081\n",
      "Epoch 18/50\n",
      "\u001b[1m273/273\u001b[0m \u001b[32m━━━━━━━━━━━━━━━━━━━━\u001b[0m\u001b[37m\u001b[0m \u001b[1m0s\u001b[0m 912us/step - accuracy: 0.9169 - loss: 0.2377 - val_accuracy: 0.9311 - val_loss: 0.2069\n",
      "Epoch 19/50\n",
      "\u001b[1m273/273\u001b[0m \u001b[32m━━━━━━━━━━━━━━━━━━━━\u001b[0m\u001b[37m\u001b[0m \u001b[1m0s\u001b[0m 917us/step - accuracy: 0.9198 - loss: 0.2506 - val_accuracy: 0.9270 - val_loss: 0.2174\n",
      "Epoch 20/50\n",
      "\u001b[1m273/273\u001b[0m \u001b[32m━━━━━━━━━━━━━━━━━━━━\u001b[0m\u001b[37m\u001b[0m \u001b[1m0s\u001b[0m 964us/step - accuracy: 0.9197 - loss: 0.2405 - val_accuracy: 0.9284 - val_loss: 0.2052\n",
      "Epoch 21/50\n",
      "\u001b[1m273/273\u001b[0m \u001b[32m━━━━━━━━━━━━━━━━━━━━\u001b[0m\u001b[37m\u001b[0m \u001b[1m0s\u001b[0m 1ms/step - accuracy: 0.9160 - loss: 0.2395 - val_accuracy: 0.9316 - val_loss: 0.2056\n",
      "Epoch 22/50\n",
      "\u001b[1m273/273\u001b[0m \u001b[32m━━━━━━━━━━━━━━━━━━━━\u001b[0m\u001b[37m\u001b[0m \u001b[1m0s\u001b[0m 1ms/step - accuracy: 0.9173 - loss: 0.2326 - val_accuracy: 0.9265 - val_loss: 0.2100\n",
      "Epoch 23/50\n",
      "\u001b[1m273/273\u001b[0m \u001b[32m━━━━━━━━━━━━━━━━━━━━\u001b[0m\u001b[37m\u001b[0m \u001b[1m0s\u001b[0m 994us/step - accuracy: 0.9178 - loss: 0.2513 - val_accuracy: 0.9256 - val_loss: 0.2114\n",
      "Epoch 24/50\n",
      "\u001b[1m273/273\u001b[0m \u001b[32m━━━━━━━━━━━━━━━━━━━━\u001b[0m\u001b[37m\u001b[0m \u001b[1m0s\u001b[0m 979us/step - accuracy: 0.9246 - loss: 0.2187 - val_accuracy: 0.9242 - val_loss: 0.2140\n",
      "Epoch 25/50\n",
      "\u001b[1m273/273\u001b[0m \u001b[32m━━━━━━━━━━━━━━━━━━━━\u001b[0m\u001b[37m\u001b[0m \u001b[1m0s\u001b[0m 1ms/step - accuracy: 0.9214 - loss: 0.2287 - val_accuracy: 0.9288 - val_loss: 0.2091\n",
      "Epoch 26/50\n",
      "\u001b[1m273/273\u001b[0m \u001b[32m━━━━━━━━━━━━━━━━━━━━\u001b[0m\u001b[37m\u001b[0m \u001b[1m0s\u001b[0m 975us/step - accuracy: 0.9191 - loss: 0.2346 - val_accuracy: 0.9252 - val_loss: 0.2101\n",
      "Epoch 27/50\n",
      "\u001b[1m273/273\u001b[0m \u001b[32m━━━━━━━━━━━━━━━━━━━━\u001b[0m\u001b[37m\u001b[0m \u001b[1m0s\u001b[0m 952us/step - accuracy: 0.9196 - loss: 0.2276 - val_accuracy: 0.9302 - val_loss: 0.2090\n",
      "Epoch 28/50\n",
      "\u001b[1m273/273\u001b[0m \u001b[32m━━━━━━━━━━━━━━━━━━━━\u001b[0m\u001b[37m\u001b[0m \u001b[1m0s\u001b[0m 1ms/step - accuracy: 0.9251 - loss: 0.2222 - val_accuracy: 0.9302 - val_loss: 0.2077\n",
      "Epoch 29/50\n",
      "\u001b[1m273/273\u001b[0m \u001b[32m━━━━━━━━━━━━━━━━━━━━\u001b[0m\u001b[37m\u001b[0m \u001b[1m0s\u001b[0m 949us/step - accuracy: 0.9211 - loss: 0.2267 - val_accuracy: 0.9261 - val_loss: 0.2113\n",
      "Epoch 30/50\n",
      "\u001b[1m273/273\u001b[0m \u001b[32m━━━━━━━━━━━━━━━━━━━━\u001b[0m\u001b[37m\u001b[0m \u001b[1m0s\u001b[0m 925us/step - accuracy: 0.9174 - loss: 0.2369 - val_accuracy: 0.9298 - val_loss: 0.2062\n",
      "Epoch 31/50\n",
      "\u001b[1m273/273\u001b[0m \u001b[32m━━━━━━━━━━━━━━━━━━━━\u001b[0m\u001b[37m\u001b[0m \u001b[1m0s\u001b[0m 906us/step - accuracy: 0.9198 - loss: 0.2319 - val_accuracy: 0.9320 - val_loss: 0.2068\n",
      "Epoch 32/50\n",
      "\u001b[1m273/273\u001b[0m \u001b[32m━━━━━━━━━━━━━━━━━━━━\u001b[0m\u001b[37m\u001b[0m \u001b[1m0s\u001b[0m 909us/step - accuracy: 0.9212 - loss: 0.2232 - val_accuracy: 0.9311 - val_loss: 0.2080\n",
      "Epoch 33/50\n",
      "\u001b[1m273/273\u001b[0m \u001b[32m━━━━━━━━━━━━━━━━━━━━\u001b[0m\u001b[37m\u001b[0m \u001b[1m0s\u001b[0m 903us/step - accuracy: 0.9243 - loss: 0.2260 - val_accuracy: 0.9307 - val_loss: 0.2079\n",
      "Epoch 34/50\n",
      "\u001b[1m273/273\u001b[0m \u001b[32m━━━━━━━━━━━━━━━━━━━━\u001b[0m\u001b[37m\u001b[0m \u001b[1m0s\u001b[0m 900us/step - accuracy: 0.9207 - loss: 0.2202 - val_accuracy: 0.9247 - val_loss: 0.2134\n",
      "Epoch 35/50\n",
      "\u001b[1m273/273\u001b[0m \u001b[32m━━━━━━━━━━━━━━━━━━━━\u001b[0m\u001b[37m\u001b[0m \u001b[1m0s\u001b[0m 901us/step - accuracy: 0.9232 - loss: 0.2130 - val_accuracy: 0.9247 - val_loss: 0.2131\n",
      "Epoch 36/50\n",
      "\u001b[1m273/273\u001b[0m \u001b[32m━━━━━━━━━━━━━━━━━━━━\u001b[0m\u001b[37m\u001b[0m \u001b[1m0s\u001b[0m 916us/step - accuracy: 0.9214 - loss: 0.2325 - val_accuracy: 0.9288 - val_loss: 0.2086\n",
      "Epoch 37/50\n",
      "\u001b[1m273/273\u001b[0m \u001b[32m━━━━━━━━━━━━━━━━━━━━\u001b[0m\u001b[37m\u001b[0m \u001b[1m0s\u001b[0m 896us/step - accuracy: 0.9213 - loss: 0.2209 - val_accuracy: 0.9265 - val_loss: 0.2100\n",
      "Epoch 38/50\n",
      "\u001b[1m273/273\u001b[0m \u001b[32m━━━━━━━━━━━━━━━━━━━━\u001b[0m\u001b[37m\u001b[0m \u001b[1m0s\u001b[0m 914us/step - accuracy: 0.9255 - loss: 0.2236 - val_accuracy: 0.9252 - val_loss: 0.2165\n",
      "Epoch 39/50\n",
      "\u001b[1m273/273\u001b[0m \u001b[32m━━━━━━━━━━━━━━━━━━━━\u001b[0m\u001b[37m\u001b[0m \u001b[1m0s\u001b[0m 980us/step - accuracy: 0.9266 - loss: 0.2132 - val_accuracy: 0.9311 - val_loss: 0.2080\n",
      "Epoch 40/50\n",
      "\u001b[1m273/273\u001b[0m \u001b[32m━━━━━━━━━━━━━━━━━━━━\u001b[0m\u001b[37m\u001b[0m \u001b[1m0s\u001b[0m 975us/step - accuracy: 0.9221 - loss: 0.2279 - val_accuracy: 0.9224 - val_loss: 0.2175\n",
      "Epoch 41/50\n",
      "\u001b[1m273/273\u001b[0m \u001b[32m━━━━━━━━━━━━━━━━━━━━\u001b[0m\u001b[37m\u001b[0m \u001b[1m0s\u001b[0m 1ms/step - accuracy: 0.9218 - loss: 0.2185 - val_accuracy: 0.9302 - val_loss: 0.2094\n",
      "Epoch 42/50\n",
      "\u001b[1m273/273\u001b[0m \u001b[32m━━━━━━━━━━━━━━━━━━━━\u001b[0m\u001b[37m\u001b[0m \u001b[1m0s\u001b[0m 987us/step - accuracy: 0.9247 - loss: 0.2091 - val_accuracy: 0.9302 - val_loss: 0.2121\n",
      "Epoch 43/50\n",
      "\u001b[1m273/273\u001b[0m \u001b[32m━━━━━━━━━━━━━━━━━━━━\u001b[0m\u001b[37m\u001b[0m \u001b[1m0s\u001b[0m 991us/step - accuracy: 0.9272 - loss: 0.2126 - val_accuracy: 0.9256 - val_loss: 0.2099\n",
      "Epoch 44/50\n",
      "\u001b[1m273/273\u001b[0m \u001b[32m━━━━━━━━━━━━━━━━━━━━\u001b[0m\u001b[37m\u001b[0m \u001b[1m0s\u001b[0m 1ms/step - accuracy: 0.9275 - loss: 0.2178 - val_accuracy: 0.9164 - val_loss: 0.2203\n",
      "Epoch 45/50\n",
      "\u001b[1m273/273\u001b[0m \u001b[32m━━━━━━━━━━━━━━━━━━━━\u001b[0m\u001b[37m\u001b[0m \u001b[1m0s\u001b[0m 992us/step - accuracy: 0.9179 - loss: 0.2238 - val_accuracy: 0.9288 - val_loss: 0.2068\n",
      "Epoch 46/50\n",
      "\u001b[1m273/273\u001b[0m \u001b[32m━━━━━━━━━━━━━━━━━━━━\u001b[0m\u001b[37m\u001b[0m \u001b[1m0s\u001b[0m 1ms/step - accuracy: 0.9278 - loss: 0.2132 - val_accuracy: 0.9238 - val_loss: 0.2116\n",
      "Epoch 47/50\n",
      "\u001b[1m273/273\u001b[0m \u001b[32m━━━━━━━━━━━━━━━━━━━━\u001b[0m\u001b[37m\u001b[0m \u001b[1m0s\u001b[0m 961us/step - accuracy: 0.9256 - loss: 0.2161 - val_accuracy: 0.9261 - val_loss: 0.2103\n",
      "Epoch 48/50\n",
      "\u001b[1m273/273\u001b[0m \u001b[32m━━━━━━━━━━━━━━━━━━━━\u001b[0m\u001b[37m\u001b[0m \u001b[1m0s\u001b[0m 973us/step - accuracy: 0.9233 - loss: 0.2152 - val_accuracy: 0.9256 - val_loss: 0.2105\n",
      "Epoch 49/50\n",
      "\u001b[1m273/273\u001b[0m \u001b[32m━━━━━━━━━━━━━━━━━━━━\u001b[0m\u001b[37m\u001b[0m \u001b[1m0s\u001b[0m 942us/step - accuracy: 0.9237 - loss: 0.2124 - val_accuracy: 0.9275 - val_loss: 0.2090\n",
      "Epoch 50/50\n",
      "\u001b[1m273/273\u001b[0m \u001b[32m━━━━━━━━━━━━━━━━━━━━\u001b[0m\u001b[37m\u001b[0m \u001b[1m0s\u001b[0m 928us/step - accuracy: 0.9260 - loss: 0.2094 - val_accuracy: 0.9279 - val_loss: 0.2093\n"
     ]
    }
   ],
   "source": [
    "import pandas as pd\n",
    "from sklearn.model_selection import train_test_split\n",
    "from sklearn.preprocessing import StandardScaler, LabelEncoder\n",
    "from ucimlrepo import fetch_ucirepo\n",
    "import tensorflow as tf\n",
    "from keras import layers, models\n",
    "\n",
    "# Fetch the Dry Bean dataset\n",
    "dry_bean = fetch_ucirepo(id=602)\n",
    "\n",
    "# Feature and target data\n",
    "X = dry_bean.data.features\n",
    "y = dry_bean.data.targets\n",
    "\n",
    "# Scale the features\n",
    "scaler = StandardScaler()\n",
    "X = scaler.fit_transform(X)\n",
    "\n",
    "# Encode the target labels and ensure y is a 1D array\n",
    "label_encoder = LabelEncoder()\n",
    "y = label_encoder.fit_transform(y)\n",
    "\n",
    "# Flatten y to make sure it's a 1D array\n",
    "y = y.flatten()\n",
    "\n",
    "# Split the data\n",
    "X_train, X_test, y_train, y_test = train_test_split(X, y, test_size=0.2, random_state=42)\n",
    "\n",
    "# Define the model\n",
    "model = models.Sequential([\n",
    "    layers.Input(shape=(X_train.shape[1],)),  # Input layer\n",
    "    layers.Dense(64, activation='relu'),\n",
    "    layers.Dropout(0.3),\n",
    "    layers.Dense(32, activation='relu'),\n",
    "    layers.Dropout(0.3),\n",
    "    layers.Dense(16, activation='relu'),\n",
    "    layers.Dense(len(set(y_train)), activation='softmax')\n",
    "])\n",
    "\n",
    "model.compile(optimizer='adam', loss='sparse_categorical_crossentropy', metrics=['accuracy'])\n",
    "\n",
    "# Train the model\n",
    "history = model.fit(X_train, y_train, epochs=50, validation_split=0.2, batch_size=32)\n"
   ]
  },
  {
   "cell_type": "code",
   "execution_count": 3,
   "id": "0b1bd9ba-279f-4ab6-8312-447d6cfab4fd",
   "metadata": {},
   "outputs": [
    {
     "name": "stdout",
     "output_type": "stream",
     "text": [
      "\u001b[1m1/1\u001b[0m \u001b[32m━━━━━━━━━━━━━━━━━━━━\u001b[0m\u001b[37m\u001b[0m \u001b[1m0s\u001b[0m 47ms/step\n",
      "Predicted class index: 5, Label: SEKER\n"
     ]
    },
    {
     "name": "stderr",
     "output_type": "stream",
     "text": [
      "c:\\Users\\Harish\\OneDrive\\Desktop\\Python\\venv\\Lib\\site-packages\\sklearn\\base.py:493: UserWarning: X does not have valid feature names, but StandardScaler was fitted with feature names\n",
      "  warnings.warn(\n"
     ]
    }
   ],
   "source": [
    "import numpy as np\n",
    "\n",
    "sample_input = [\n",
    "    28395,          \n",
    "    610.291,        \n",
    "    208.1781167,    \n",
    "    173.888747,     \n",
    "    1.197191424,    \n",
    "    0.549812187,    \n",
    "    28715,          \n",
    "    190.1410973,    \n",
    "    0.763922518,    \n",
    "    0.988855999,    \n",
    "    0.958027126,    \n",
    "    0.913357755,    \n",
    "    0.007331506,    \n",
    "    0.003147289,    \n",
    "    0.834222388,    \n",
    "    0.998723889 \n",
    "]\n",
    "\n",
    "sample_input_scaled = scaler.transform([sample_input]) \n",
    "\n",
    "sample_prediction = model.predict(sample_input_scaled)\n",
    "predicted_class = np.argmax(sample_prediction, axis=1)\n",
    "\n",
    "predicted_label = label_encoder.inverse_transform(predicted_class)\n",
    "\n",
    "print(f'Predicted class index: {predicted_class[0]}, Label: {predicted_label[0]}')"
   ]
  },
  {
   "cell_type": "code",
   "execution_count": 5,
   "id": "e28b13a1-4d79-48ec-ad5b-bec9d97eb579",
   "metadata": {},
   "outputs": [
    {
     "name": "stderr",
     "output_type": "stream",
     "text": [
      "WARNING:absl:You are saving your model as an HDF5 file via `model.save()` or `keras.saving.save_model(model)`. This file format is considered legacy. We recommend using instead the native Keras format, e.g. `model.save('my_model.keras')` or `keras.saving.save_model(model, 'my_model.keras')`. \n"
     ]
    },
    {
     "ename": "AttributeError",
     "evalue": "'StandardScaler' object has no attribute 'save'",
     "output_type": "error",
     "traceback": [
      "\u001b[1;31m---------------------------------------------------------------------------\u001b[0m",
      "\u001b[1;31mAttributeError\u001b[0m                            Traceback (most recent call last)",
      "Cell \u001b[1;32mIn[5], line 3\u001b[0m\n\u001b[0;32m      1\u001b[0m \u001b[38;5;66;03m# Save the Keras model\u001b[39;00m\n\u001b[0;32m      2\u001b[0m model\u001b[38;5;241m.\u001b[39msave(\u001b[38;5;124m'\u001b[39m\u001b[38;5;124mmodel.h5\u001b[39m\u001b[38;5;124m'\u001b[39m)\n\u001b[1;32m----> 3\u001b[0m \u001b[43mscaler\u001b[49m\u001b[38;5;241;43m.\u001b[39;49m\u001b[43msave\u001b[49m(\u001b[38;5;124m'\u001b[39m\u001b[38;5;124mscaler.h5\u001b[39m\u001b[38;5;124m'\u001b[39m)\n\u001b[0;32m      4\u001b[0m label_encoder\u001b[38;5;241m.\u001b[39msave(\u001b[38;5;124m'\u001b[39m\u001b[38;5;124mscaler.h5\u001b[39m\u001b[38;5;124m'\u001b[39m)\n",
      "\u001b[1;31mAttributeError\u001b[0m: 'StandardScaler' object has no attribute 'save'"
     ]
    }
   ],
   "source": [
    "import pickle  # Correct spelling for import\n",
    "\n",
    "# Save the model, scaler, and label encoder\n",
    "pickle.dump(model, open('model.pkl', 'wb'))  # Added missing parentheses\n",
    "pickle.dump(scaler, open('scaler.pkl', 'wb'))  # Added missing parentheses\n",
    "pickle.dump(label_encoder, open('label.pkl', 'wb'))  # Added missing parentheses"
   ]
  },
  {
   "cell_type": "code",
   "execution_count": null,
   "id": "98fbd301-de10-44e0-8b17-2ac6459138fb",
   "metadata": {},
   "outputs": [],
   "source": []
  }
 ],
 "metadata": {
  "kernelspec": {
   "display_name": "Python 3 (ipykernel)",
   "language": "python",
   "name": "python3"
  },
  "language_info": {
   "codemirror_mode": {
    "name": "ipython",
    "version": 3
   },
   "file_extension": ".py",
   "mimetype": "text/x-python",
   "name": "python",
   "nbconvert_exporter": "python",
   "pygments_lexer": "ipython3",
   "version": "3.12.4"
  }
 },
 "nbformat": 4,
 "nbformat_minor": 5
}
