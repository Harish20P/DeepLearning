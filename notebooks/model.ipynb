{
 "cells": [
  {
   "cell_type": "code",
   "execution_count": 1,
   "id": "c7be8012-e408-4644-9bec-89c855f1de22",
   "metadata": {},
   "outputs": [
    {
     "name": "stderr",
     "output_type": "stream",
     "text": [
      "c:\\Users\\Harish\\anaconda3\\envs\\ml_env\\Lib\\site-packages\\sklearn\\preprocessing\\_label.py:114: DataConversionWarning: A column-vector y was passed when a 1d array was expected. Please change the shape of y to (n_samples, ), for example using ravel().\n",
      "  y = column_or_1d(y, warn=True)\n"
     ]
    },
    {
     "name": "stdout",
     "output_type": "stream",
     "text": [
      "Epoch 1/50\n",
      "\u001b[1m273/273\u001b[0m \u001b[32m━━━━━━━━━━━━━━━━━━━━\u001b[0m\u001b[37m\u001b[0m \u001b[1m4s\u001b[0m 4ms/step - accuracy: 0.5222 - loss: 1.3345 - val_accuracy: 0.8664 - val_loss: 0.4114\n",
      "Epoch 2/50\n",
      "\u001b[1m273/273\u001b[0m \u001b[32m━━━━━━━━━━━━━━━━━━━━\u001b[0m\u001b[37m\u001b[0m \u001b[1m1s\u001b[0m 3ms/step - accuracy: 0.8157 - loss: 0.5091 - val_accuracy: 0.9063 - val_loss: 0.2858\n",
      "Epoch 3/50\n",
      "\u001b[1m273/273\u001b[0m \u001b[32m━━━━━━━━━━━━━━━━━━━━\u001b[0m\u001b[37m\u001b[0m \u001b[1m1s\u001b[0m 3ms/step - accuracy: 0.8650 - loss: 0.3966 - val_accuracy: 0.9109 - val_loss: 0.2513\n",
      "Epoch 4/50\n",
      "\u001b[1m273/273\u001b[0m \u001b[32m━━━━━━━━━━━━━━━━━━━━\u001b[0m\u001b[37m\u001b[0m \u001b[1m1s\u001b[0m 3ms/step - accuracy: 0.8870 - loss: 0.3512 - val_accuracy: 0.9183 - val_loss: 0.2336\n",
      "Epoch 5/50\n",
      "\u001b[1m273/273\u001b[0m \u001b[32m━━━━━━━━━━━━━━━━━━━━\u001b[0m\u001b[37m\u001b[0m \u001b[1m1s\u001b[0m 3ms/step - accuracy: 0.8922 - loss: 0.3080 - val_accuracy: 0.9219 - val_loss: 0.2206\n",
      "Epoch 6/50\n",
      "\u001b[1m273/273\u001b[0m \u001b[32m━━━━━━━━━━━━━━━━━━━━\u001b[0m\u001b[37m\u001b[0m \u001b[1m1s\u001b[0m 3ms/step - accuracy: 0.8990 - loss: 0.2994 - val_accuracy: 0.9275 - val_loss: 0.2209\n",
      "Epoch 7/50\n",
      "\u001b[1m273/273\u001b[0m \u001b[32m━━━━━━━━━━━━━━━━━━━━\u001b[0m\u001b[37m\u001b[0m \u001b[1m1s\u001b[0m 3ms/step - accuracy: 0.9020 - loss: 0.2879 - val_accuracy: 0.9238 - val_loss: 0.2170\n",
      "Epoch 8/50\n",
      "\u001b[1m273/273\u001b[0m \u001b[32m━━━━━━━━━━━━━━━━━━━━\u001b[0m\u001b[37m\u001b[0m \u001b[1m1s\u001b[0m 3ms/step - accuracy: 0.9034 - loss: 0.2836 - val_accuracy: 0.9238 - val_loss: 0.2146\n",
      "Epoch 9/50\n",
      "\u001b[1m273/273\u001b[0m \u001b[32m━━━━━━━━━━━━━━━━━━━━\u001b[0m\u001b[37m\u001b[0m \u001b[1m1s\u001b[0m 3ms/step - accuracy: 0.9055 - loss: 0.2799 - val_accuracy: 0.9247 - val_loss: 0.2143\n",
      "Epoch 10/50\n",
      "\u001b[1m273/273\u001b[0m \u001b[32m━━━━━━━━━━━━━━━━━━━━\u001b[0m\u001b[37m\u001b[0m \u001b[1m1s\u001b[0m 3ms/step - accuracy: 0.9032 - loss: 0.2761 - val_accuracy: 0.9238 - val_loss: 0.2246\n",
      "Epoch 11/50\n",
      "\u001b[1m273/273\u001b[0m \u001b[32m━━━━━━━━━━━━━━━━━━━━\u001b[0m\u001b[37m\u001b[0m \u001b[1m1s\u001b[0m 3ms/step - accuracy: 0.9097 - loss: 0.2713 - val_accuracy: 0.9252 - val_loss: 0.2124\n",
      "Epoch 12/50\n",
      "\u001b[1m273/273\u001b[0m \u001b[32m━━━━━━━━━━━━━━━━━━━━\u001b[0m\u001b[37m\u001b[0m \u001b[1m1s\u001b[0m 3ms/step - accuracy: 0.9080 - loss: 0.2647 - val_accuracy: 0.9284 - val_loss: 0.2090\n",
      "Epoch 13/50\n",
      "\u001b[1m273/273\u001b[0m \u001b[32m━━━━━━━━━━━━━━━━━━━━\u001b[0m\u001b[37m\u001b[0m \u001b[1m1s\u001b[0m 3ms/step - accuracy: 0.9143 - loss: 0.2560 - val_accuracy: 0.9275 - val_loss: 0.2077\n",
      "Epoch 14/50\n",
      "\u001b[1m273/273\u001b[0m \u001b[32m━━━━━━━━━━━━━━━━━━━━\u001b[0m\u001b[37m\u001b[0m \u001b[1m1s\u001b[0m 3ms/step - accuracy: 0.9171 - loss: 0.2494 - val_accuracy: 0.9206 - val_loss: 0.2223\n",
      "Epoch 15/50\n",
      "\u001b[1m273/273\u001b[0m \u001b[32m━━━━━━━━━━━━━━━━━━━━\u001b[0m\u001b[37m\u001b[0m \u001b[1m1s\u001b[0m 3ms/step - accuracy: 0.9127 - loss: 0.2476 - val_accuracy: 0.9265 - val_loss: 0.2122\n",
      "Epoch 16/50\n",
      "\u001b[1m273/273\u001b[0m \u001b[32m━━━━━━━━━━━━━━━━━━━━\u001b[0m\u001b[37m\u001b[0m \u001b[1m1s\u001b[0m 3ms/step - accuracy: 0.9167 - loss: 0.2397 - val_accuracy: 0.9252 - val_loss: 0.2138\n",
      "Epoch 17/50\n",
      "\u001b[1m273/273\u001b[0m \u001b[32m━━━━━━━━━━━━━━━━━━━━\u001b[0m\u001b[37m\u001b[0m \u001b[1m1s\u001b[0m 3ms/step - accuracy: 0.9157 - loss: 0.2469 - val_accuracy: 0.9238 - val_loss: 0.2181\n",
      "Epoch 18/50\n",
      "\u001b[1m273/273\u001b[0m \u001b[32m━━━━━━━━━━━━━━━━━━━━\u001b[0m\u001b[37m\u001b[0m \u001b[1m1s\u001b[0m 3ms/step - accuracy: 0.9224 - loss: 0.2278 - val_accuracy: 0.9206 - val_loss: 0.2137\n",
      "Epoch 19/50\n",
      "\u001b[1m273/273\u001b[0m \u001b[32m━━━━━━━━━━━━━━━━━━━━\u001b[0m\u001b[37m\u001b[0m \u001b[1m1s\u001b[0m 3ms/step - accuracy: 0.9151 - loss: 0.2492 - val_accuracy: 0.9229 - val_loss: 0.2168\n",
      "Epoch 20/50\n",
      "\u001b[1m273/273\u001b[0m \u001b[32m━━━━━━━━━━━━━━━━━━━━\u001b[0m\u001b[37m\u001b[0m \u001b[1m1s\u001b[0m 3ms/step - accuracy: 0.9158 - loss: 0.2388 - val_accuracy: 0.9229 - val_loss: 0.2161\n",
      "Epoch 21/50\n",
      "\u001b[1m273/273\u001b[0m \u001b[32m━━━━━━━━━━━━━━━━━━━━\u001b[0m\u001b[37m\u001b[0m \u001b[1m1s\u001b[0m 3ms/step - accuracy: 0.9201 - loss: 0.2353 - val_accuracy: 0.9247 - val_loss: 0.2045\n",
      "Epoch 22/50\n",
      "\u001b[1m273/273\u001b[0m \u001b[32m━━━━━━━━━━━━━━━━━━━━\u001b[0m\u001b[37m\u001b[0m \u001b[1m1s\u001b[0m 3ms/step - accuracy: 0.9171 - loss: 0.2382 - val_accuracy: 0.9270 - val_loss: 0.2051\n",
      "Epoch 23/50\n",
      "\u001b[1m273/273\u001b[0m \u001b[32m━━━━━━━━━━━━━━━━━━━━\u001b[0m\u001b[37m\u001b[0m \u001b[1m1s\u001b[0m 3ms/step - accuracy: 0.9206 - loss: 0.2322 - val_accuracy: 0.9187 - val_loss: 0.2183\n",
      "Epoch 24/50\n",
      "\u001b[1m273/273\u001b[0m \u001b[32m━━━━━━━━━━━━━━━━━━━━\u001b[0m\u001b[37m\u001b[0m \u001b[1m1s\u001b[0m 3ms/step - accuracy: 0.9178 - loss: 0.2346 - val_accuracy: 0.9229 - val_loss: 0.2091\n",
      "Epoch 25/50\n",
      "\u001b[1m273/273\u001b[0m \u001b[32m━━━━━━━━━━━━━━━━━━━━\u001b[0m\u001b[37m\u001b[0m \u001b[1m1s\u001b[0m 3ms/step - accuracy: 0.9236 - loss: 0.2227 - val_accuracy: 0.9224 - val_loss: 0.2148\n",
      "Epoch 26/50\n",
      "\u001b[1m273/273\u001b[0m \u001b[32m━━━━━━━━━━━━━━━━━━━━\u001b[0m\u001b[37m\u001b[0m \u001b[1m1s\u001b[0m 3ms/step - accuracy: 0.9221 - loss: 0.2394 - val_accuracy: 0.9256 - val_loss: 0.2093\n",
      "Epoch 27/50\n",
      "\u001b[1m273/273\u001b[0m \u001b[32m━━━━━━━━━━━━━━━━━━━━\u001b[0m\u001b[37m\u001b[0m \u001b[1m1s\u001b[0m 3ms/step - accuracy: 0.9219 - loss: 0.2246 - val_accuracy: 0.9229 - val_loss: 0.2133\n",
      "Epoch 28/50\n",
      "\u001b[1m273/273\u001b[0m \u001b[32m━━━━━━━━━━━━━━━━━━━━\u001b[0m\u001b[37m\u001b[0m \u001b[1m1s\u001b[0m 3ms/step - accuracy: 0.9223 - loss: 0.2291 - val_accuracy: 0.9284 - val_loss: 0.2059\n",
      "Epoch 29/50\n",
      "\u001b[1m273/273\u001b[0m \u001b[32m━━━━━━━━━━━━━━━━━━━━\u001b[0m\u001b[37m\u001b[0m \u001b[1m1s\u001b[0m 3ms/step - accuracy: 0.9181 - loss: 0.2366 - val_accuracy: 0.9265 - val_loss: 0.2057\n",
      "Epoch 30/50\n",
      "\u001b[1m273/273\u001b[0m \u001b[32m━━━━━━━━━━━━━━━━━━━━\u001b[0m\u001b[37m\u001b[0m \u001b[1m1s\u001b[0m 3ms/step - accuracy: 0.9198 - loss: 0.2298 - val_accuracy: 0.9261 - val_loss: 0.2087\n",
      "Epoch 31/50\n",
      "\u001b[1m273/273\u001b[0m \u001b[32m━━━━━━━━━━━━━━━━━━━━\u001b[0m\u001b[37m\u001b[0m \u001b[1m1s\u001b[0m 3ms/step - accuracy: 0.9226 - loss: 0.2185 - val_accuracy: 0.9183 - val_loss: 0.2168\n",
      "Epoch 32/50\n",
      "\u001b[1m273/273\u001b[0m \u001b[32m━━━━━━━━━━━━━━━━━━━━\u001b[0m\u001b[37m\u001b[0m \u001b[1m1s\u001b[0m 3ms/step - accuracy: 0.9176 - loss: 0.2180 - val_accuracy: 0.9224 - val_loss: 0.2116\n",
      "Epoch 33/50\n",
      "\u001b[1m273/273\u001b[0m \u001b[32m━━━━━━━━━━━━━━━━━━━━\u001b[0m\u001b[37m\u001b[0m \u001b[1m1s\u001b[0m 3ms/step - accuracy: 0.9250 - loss: 0.2245 - val_accuracy: 0.9215 - val_loss: 0.2110\n",
      "Epoch 34/50\n",
      "\u001b[1m273/273\u001b[0m \u001b[32m━━━━━━━━━━━━━━━━━━━━\u001b[0m\u001b[37m\u001b[0m \u001b[1m1s\u001b[0m 3ms/step - accuracy: 0.9280 - loss: 0.2109 - val_accuracy: 0.9238 - val_loss: 0.2111\n",
      "Epoch 35/50\n",
      "\u001b[1m273/273\u001b[0m \u001b[32m━━━━━━━━━━━━━━━━━━━━\u001b[0m\u001b[37m\u001b[0m \u001b[1m1s\u001b[0m 3ms/step - accuracy: 0.9255 - loss: 0.2157 - val_accuracy: 0.9229 - val_loss: 0.2121\n",
      "Epoch 36/50\n",
      "\u001b[1m273/273\u001b[0m \u001b[32m━━━━━━━━━━━━━━━━━━━━\u001b[0m\u001b[37m\u001b[0m \u001b[1m1s\u001b[0m 3ms/step - accuracy: 0.9244 - loss: 0.2117 - val_accuracy: 0.9206 - val_loss: 0.2152\n",
      "Epoch 37/50\n",
      "\u001b[1m273/273\u001b[0m \u001b[32m━━━━━━━━━━━━━━━━━━━━\u001b[0m\u001b[37m\u001b[0m \u001b[1m1s\u001b[0m 3ms/step - accuracy: 0.9247 - loss: 0.2150 - val_accuracy: 0.9155 - val_loss: 0.2243\n",
      "Epoch 38/50\n",
      "\u001b[1m273/273\u001b[0m \u001b[32m━━━━━━━━━━━━━━━━━━━━\u001b[0m\u001b[37m\u001b[0m \u001b[1m1s\u001b[0m 3ms/step - accuracy: 0.9160 - loss: 0.2214 - val_accuracy: 0.9270 - val_loss: 0.2064\n",
      "Epoch 39/50\n",
      "\u001b[1m273/273\u001b[0m \u001b[32m━━━━━━━━━━━━━━━━━━━━\u001b[0m\u001b[37m\u001b[0m \u001b[1m1s\u001b[0m 3ms/step - accuracy: 0.9235 - loss: 0.2206 - val_accuracy: 0.9183 - val_loss: 0.2159\n",
      "Epoch 40/50\n",
      "\u001b[1m273/273\u001b[0m \u001b[32m━━━━━━━━━━━━━━━━━━━━\u001b[0m\u001b[37m\u001b[0m \u001b[1m1s\u001b[0m 3ms/step - accuracy: 0.9225 - loss: 0.2121 - val_accuracy: 0.9192 - val_loss: 0.2188\n",
      "Epoch 41/50\n",
      "\u001b[1m273/273\u001b[0m \u001b[32m━━━━━━━━━━━━━━━━━━━━\u001b[0m\u001b[37m\u001b[0m \u001b[1m1s\u001b[0m 3ms/step - accuracy: 0.9225 - loss: 0.2179 - val_accuracy: 0.9224 - val_loss: 0.2133\n",
      "Epoch 42/50\n",
      "\u001b[1m273/273\u001b[0m \u001b[32m━━━━━━━━━━━━━━━━━━━━\u001b[0m\u001b[37m\u001b[0m \u001b[1m1s\u001b[0m 3ms/step - accuracy: 0.9164 - loss: 0.2321 - val_accuracy: 0.9201 - val_loss: 0.2127\n",
      "Epoch 43/50\n",
      "\u001b[1m273/273\u001b[0m \u001b[32m━━━━━━━━━━━━━━━━━━━━\u001b[0m\u001b[37m\u001b[0m \u001b[1m1s\u001b[0m 3ms/step - accuracy: 0.9240 - loss: 0.2159 - val_accuracy: 0.9233 - val_loss: 0.2143\n",
      "Epoch 44/50\n",
      "\u001b[1m273/273\u001b[0m \u001b[32m━━━━━━━━━━━━━━━━━━━━\u001b[0m\u001b[37m\u001b[0m \u001b[1m1s\u001b[0m 3ms/step - accuracy: 0.9270 - loss: 0.2008 - val_accuracy: 0.9114 - val_loss: 0.2325\n",
      "Epoch 45/50\n",
      "\u001b[1m273/273\u001b[0m \u001b[32m━━━━━━━━━━━━━━━━━━━━\u001b[0m\u001b[37m\u001b[0m \u001b[1m1s\u001b[0m 3ms/step - accuracy: 0.9239 - loss: 0.2117 - val_accuracy: 0.9201 - val_loss: 0.2195\n",
      "Epoch 46/50\n",
      "\u001b[1m273/273\u001b[0m \u001b[32m━━━━━━━━━━━━━━━━━━━━\u001b[0m\u001b[37m\u001b[0m \u001b[1m1s\u001b[0m 3ms/step - accuracy: 0.9230 - loss: 0.2136 - val_accuracy: 0.9219 - val_loss: 0.2173\n",
      "Epoch 47/50\n",
      "\u001b[1m273/273\u001b[0m \u001b[32m━━━━━━━━━━━━━━━━━━━━\u001b[0m\u001b[37m\u001b[0m \u001b[1m1s\u001b[0m 3ms/step - accuracy: 0.9250 - loss: 0.2123 - val_accuracy: 0.9256 - val_loss: 0.2068\n",
      "Epoch 48/50\n",
      "\u001b[1m273/273\u001b[0m \u001b[32m━━━━━━━━━━━━━━━━━━━━\u001b[0m\u001b[37m\u001b[0m \u001b[1m1s\u001b[0m 3ms/step - accuracy: 0.9273 - loss: 0.2115 - val_accuracy: 0.9256 - val_loss: 0.2129\n",
      "Epoch 49/50\n",
      "\u001b[1m273/273\u001b[0m \u001b[32m━━━━━━━━━━━━━━━━━━━━\u001b[0m\u001b[37m\u001b[0m \u001b[1m1s\u001b[0m 3ms/step - accuracy: 0.9213 - loss: 0.2145 - val_accuracy: 0.9261 - val_loss: 0.2132\n",
      "Epoch 50/50\n",
      "\u001b[1m273/273\u001b[0m \u001b[32m━━━━━━━━━━━━━━━━━━━━\u001b[0m\u001b[37m\u001b[0m \u001b[1m1s\u001b[0m 3ms/step - accuracy: 0.9284 - loss: 0.2087 - val_accuracy: 0.9320 - val_loss: 0.2058\n"
     ]
    }
   ],
   "source": [
    "import pandas as pd\n",
    "from sklearn.model_selection import train_test_split\n",
    "from sklearn.preprocessing import StandardScaler, LabelEncoder\n",
    "from ucimlrepo import fetch_ucirepo\n",
    "import tensorflow as tf\n",
    "from keras import layers, models\n",
    "\n",
    "# Fetch the Dry Bean dataset\n",
    "dry_bean = fetch_ucirepo(id=602)\n",
    "\n",
    "# Feature and target data\n",
    "X = dry_bean.data.features\n",
    "y = dry_bean.data.targets\n",
    "\n",
    "# Scale the features\n",
    "scaler = StandardScaler()\n",
    "X = scaler.fit_transform(X)\n",
    "\n",
    "# Encode the target labels and ensure y is a 1D array\n",
    "label_encoder = LabelEncoder()\n",
    "y = label_encoder.fit_transform(y)\n",
    "\n",
    "# Flatten y to make sure it's a 1D array\n",
    "y = y.flatten()\n",
    "\n",
    "# Split the data\n",
    "X_train, X_test, y_train, y_test = train_test_split(X, y, test_size=0.2, random_state=42)\n",
    "\n",
    "# Define the model\n",
    "model = models.Sequential([\n",
    "    layers.Input(shape=(X_train.shape[1],)),  # Input layer\n",
    "    layers.Dense(64, activation='relu'),\n",
    "    layers.Dropout(0.3),\n",
    "    layers.Dense(32, activation='relu'),\n",
    "    layers.Dropout(0.3),\n",
    "    layers.Dense(16, activation='relu'),\n",
    "    layers.Dense(len(set(y_train)), activation='softmax')\n",
    "])\n",
    "\n",
    "model.compile(optimizer='adam', loss='sparse_categorical_crossentropy', metrics=['accuracy'])\n",
    "\n",
    "# Train the model\n",
    "history = model.fit(X_train, y_train, epochs=50, validation_split=0.2, batch_size=32)\n"
   ]
  },
  {
   "cell_type": "code",
   "execution_count": 7,
   "id": "0b1bd9ba-279f-4ab6-8312-447d6cfab4fd",
   "metadata": {},
   "outputs": [
    {
     "name": "stderr",
     "output_type": "stream",
     "text": [
      "c:\\Users\\Harish\\OneDrive\\Desktop\\Python\\venv\\Lib\\site-packages\\sklearn\\base.py:493: UserWarning: X does not have valid feature names, but StandardScaler was fitted with feature names\n",
      "  warnings.warn(\n"
     ]
    },
    {
     "name": "stdout",
     "output_type": "stream",
     "text": [
      "\u001b[1m1/1\u001b[0m \u001b[32m━━━━━━━━━━━━━━━━━━━━\u001b[0m\u001b[37m\u001b[0m \u001b[1m0s\u001b[0m 135ms/step\n",
      "Predicted class index: 5, Label: SEKER\n"
     ]
    }
   ],
   "source": [
    "import numpy as np\n",
    "\n",
    "sample_input = [\n",
    "    28395,          \n",
    "    610.291,        \n",
    "    208.1781167,    \n",
    "    173.888747,     \n",
    "    1.197191424,    \n",
    "    0.549812187,    \n",
    "    28715,          \n",
    "    190.1410973,    \n",
    "    0.763922518,    \n",
    "    0.988855999,    \n",
    "    0.958027126,    \n",
    "    0.913357755,    \n",
    "    0.007331506,    \n",
    "    0.003147289,    \n",
    "    0.834222388,    \n",
    "    0.998723889 \n",
    "]\n",
    "\n",
    "sample_input_scaled = scaler.transform([sample_input]) \n",
    "\n",
    "sample_prediction = model.predict(sample_input_scaled)\n",
    "predicted_class = np.argmax(sample_prediction, axis=1)\n",
    "\n",
    "predicted_label = label_encoder.inverse_transform(predicted_class)\n",
    "\n",
    "print(f'Predicted class index: {predicted_class[0]}, Label: {predicted_label[0]}')"
   ]
  },
  {
   "cell_type": "code",
   "execution_count": 9,
   "id": "e28b13a1-4d79-48ec-ad5b-bec9d97eb579",
   "metadata": {},
   "outputs": [
    {
     "name": "stderr",
     "output_type": "stream",
     "text": [
      "WARNING:absl:You are saving your model as an HDF5 file via `model.save()` or `keras.saving.save_model(model)`. This file format is considered legacy. We recommend using instead the native Keras format, e.g. `model.save('my_model.keras')` or `keras.saving.save_model(model, 'my_model.keras')`. \n"
     ]
    },
    {
     "data": {
      "text/plain": [
       "['label.pkl']"
      ]
     },
     "execution_count": 9,
     "metadata": {},
     "output_type": "execute_result"
    }
   ],
   "source": [
    "import joblib\n",
    "from tensorflow.keras.models import load_model\n",
    "\n",
    "# Save the Keras model\n",
    "model.save('model.h5')  # Save the model to an HDF5 file\n",
    "\n",
    "# Save the scaler and label encoder using joblib\n",
    "joblib.dump(scaler, 'scaler.pkl')  # Save the scaler to a pickle file\n",
    "joblib.dump(label_encoder, 'label.pkl')  # Save the label encoder to a pickle file"
   ]
  },
  {
   "cell_type": "code",
   "execution_count": null,
   "id": "98fbd301-de10-44e0-8b17-2ac6459138fb",
   "metadata": {},
   "outputs": [],
   "source": []
  }
 ],
 "metadata": {
  "kernelspec": {
   "display_name": "Python 3 (ipykernel)",
   "language": "python",
   "name": "python3"
  },
  "language_info": {
   "codemirror_mode": {
    "name": "ipython",
    "version": 3
   },
   "file_extension": ".py",
   "mimetype": "text/x-python",
   "name": "python",
   "nbconvert_exporter": "python",
   "pygments_lexer": "ipython3",
   "version": "3.12.4"
  }
 },
 "nbformat": 4,
 "nbformat_minor": 5
}
